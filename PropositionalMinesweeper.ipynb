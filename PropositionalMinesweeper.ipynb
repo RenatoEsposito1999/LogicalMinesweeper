{
 "cells": [
  {
   "cell_type": "markdown",
   "id": "d350359e-decf-48d3-80a1-083db5565ef2",
   "metadata": {},
   "source": [
    "# Minesweeper with propositional logic\n",
    "Scrivere qual è l'obeittivo di questo progetto (creare ai per giocare a minesweeper).\n",
    "Cos'è mineswewepr, aggiungere se è determinisitco, stocastico etc. \n",
    "cos'è la propositional logic.\n",
    "\n",
    "Quando parlo della classe sentece spiego come faccio l'inferenza e perché non ho usato un algirtmo classico di inferenza tipo model checking a cuasa della complessità combinatoria del gioco e quindi ho usato la logica deduttiva "
   ]
  },
  {
   "cell_type": "code",
   "execution_count": null,
   "id": "6dbcecfa-77df-4726-a671-3b8b1d62c861",
   "metadata": {},
   "outputs": [],
   "source": []
  },
  {
   "cell_type": "code",
   "execution_count": null,
   "id": "acc0b10c-b9e5-4567-b88e-e5267f14d8d1",
   "metadata": {},
   "outputs": [],
   "source": []
  }
 ],
 "metadata": {
  "kernelspec": {
   "display_name": "Python 3 (ipykernel)",
   "language": "python",
   "name": "python3"
  },
  "language_info": {
   "codemirror_mode": {
    "name": "ipython",
    "version": 3
   },
   "file_extension": ".py",
   "mimetype": "text/x-python",
   "name": "python",
   "nbconvert_exporter": "python",
   "pygments_lexer": "ipython3",
   "version": "3.12.4"
  }
 },
 "nbformat": 4,
 "nbformat_minor": 5
}
